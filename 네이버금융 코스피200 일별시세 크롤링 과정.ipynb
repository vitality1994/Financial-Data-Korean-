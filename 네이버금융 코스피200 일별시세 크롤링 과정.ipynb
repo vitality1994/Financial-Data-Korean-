{
 "cells": [
  {
   "cell_type": "code",
   "execution_count": 1,
   "metadata": {},
   "outputs": [
    {
     "data": {
      "text/plain": [
       "<html lang=\"ko\">\n",
       "<head>\n",
       "<meta content=\"text/html; charset=utf-8\" http-equiv=\"Content-Type\"/>\n",
       "<title>네이버 금융</title>\n",
       "<link href=\"/css/newstock.css?20200806200958\" rel=\"stylesheet\" type=\"text/css\"/>\n",
       "<link href=\"/css/common.css?20200806200958\" rel=\"stylesheet\" type=\"text/css\"/>\n",
       "<link href=\"/css/layout.css?20200806200958\" rel=\"stylesheet\" type=\"text/css\"/>\n",
       "<link href=\"/css/main.css?20200806200958\" rel=\"stylesheet\" type=\"text/css\"/>\n",
       "<link href=\"/css/newstock2.css?20200806200958\" rel=\"stylesheet\" type=\"text/css\"/>\n",
       "<link href=\"/css/newstock3.css?20200806200958\" rel=\"stylesheet\" type=\"text/css\"/>\n",
       "<link href=\"/css/world.css?20200806200958\" rel=\"stylesheet\" type=\"text/css\"/>\n",
       "</head>\n",
       "<body>\n",
       "<script src=\"/js/jindo.min.ns.1.5.3.euckr.js?20200806200958\" type=\"text/javascript\"></script>\n",
       "<script src=\"/js/lcslog.js?20200806200958\" type=\"text/javascript\"></script>\n",
       "<!-- 일별시세 -->\n",
       "<div class=\"box_type_m\">\n",
       "<h4 class=\"top_tlt\" style=\"text-align:left;\"><em>일별</em>시세</h4>\n",
       "<table cellpadding=\"0\" cellspacing=\"0\" class=\"type_1\" summary=\"일별 시세표:날짜에 따른 체결가 전일비 등락률 거래량 거래대금 정보를 제공합니다.\">\n",
       "<caption>일별시세</caption>\n",
       "<col width=\"15%\"/><col width=\"14%\"/><col width=\"18%\"/><col width=\"14%\"/><col width=\"*\"/><col width=\"18%\"/>\n",
       "<tr>\n",
       "<th>날짜</th>\n",
       "<th>체결가</th>\n",
       "<th>전일비</th>\n",
       "<th>등락률</th>\n",
       "<th>거래량<span class=\"add_txt\">(천주)</span></th>\n",
       "<th>거래대금<span class=\"add_txt\">(백만)</span></th>\n",
       "</tr>\n",
       "<tr><td class=\"blank_07\" colspan=\"6\"></td></tr>\n",
       "<tr>\n",
       "<td class=\"date\">2020.08.11</td>\n",
       "<td class=\"number_1\">321.02</td>\n",
       "<td class=\"rate_down\" style=\"padding-right:35px;\">\n",
       "<img alt=\"상승\" height=\"6\" src=\"https://ssl.pstatic.net/imgstock/images/images4/ico_up.gif\" style=\"margin-right:4px;\" width=\"7\"/><span class=\"tah p11 red02\">\n",
       "\t\t\t\t4.25\n",
       "\t\t\t\t</span>\n",
       "</td>\n",
       "<td class=\"number_1\">\n",
       "<span class=\"tah p11 red01\">\n",
       "\t\t\t\t+1.34%\n",
       "\t\t\t\t</span>\n",
       "</td>\n",
       "<td class=\"number_1\" style=\"padding-right:40px;\">297,602</td>\n",
       "<td class=\"number_1\" style=\"padding-right:30px;\">14,272,135</td>\n",
       "</tr>\n",
       "<tr>\n",
       "<td class=\"date\">2020.08.10</td>\n",
       "<td class=\"number_1\">316.77</td>\n",
       "<td class=\"rate_down\" style=\"padding-right:35px;\">\n",
       "<img alt=\"상승\" height=\"6\" src=\"https://ssl.pstatic.net/imgstock/images/images4/ico_up.gif\" style=\"margin-right:4px;\" width=\"7\"/><span class=\"tah p11 red02\">\n",
       "\t\t\t\t4.20\n",
       "\t\t\t\t</span>\n",
       "</td>\n",
       "<td class=\"number_1\">\n",
       "<span class=\"tah p11 red01\">\n",
       "\t\t\t\t+1.34%\n",
       "\t\t\t\t</span>\n",
       "</td>\n",
       "<td class=\"number_1\" style=\"padding-right:40px;\">261,178</td>\n",
       "<td class=\"number_1\" style=\"padding-right:30px;\">13,609,052</td>\n",
       "</tr>\n",
       "<tr>\n",
       "<td class=\"date\">2020.08.07</td>\n",
       "<td class=\"number_1\">312.57</td>\n",
       "<td class=\"rate_down\" style=\"padding-right:35px;\">\n",
       "<img alt=\"상승\" height=\"6\" src=\"https://ssl.pstatic.net/imgstock/images/images4/ico_up.gif\" style=\"margin-right:4px;\" width=\"7\"/><span class=\"tah p11 red02\">\n",
       "\t\t\t\t1.25\n",
       "\t\t\t\t</span>\n",
       "</td>\n",
       "<td class=\"number_1\">\n",
       "<span class=\"tah p11 red01\">\n",
       "\t\t\t\t+0.40%\n",
       "\t\t\t\t</span>\n",
       "</td>\n",
       "<td class=\"number_1\" style=\"padding-right:40px;\">299,118</td>\n",
       "<td class=\"number_1\" style=\"padding-right:30px;\">12,726,819</td>\n",
       "</tr>\n",
       "<tr><td class=\"blank_08\" colspan=\"6\"></td></tr>\n",
       "<tr><td class=\"division_line\" colspan=\"6\"></td></tr>\n",
       "<tr><td class=\"blank_08\" colspan=\"6\"></td></tr>\n",
       "<tr>\n",
       "</tr><tr>\n",
       "<td class=\"date\">2020.08.06</td>\n",
       "<td class=\"number_1\">311.32</td>\n",
       "<td class=\"rate_down\" style=\"padding-right:35px;\">\n",
       "<img alt=\"상승\" height=\"6\" src=\"https://ssl.pstatic.net/imgstock/images/images4/ico_up.gif\" style=\"margin-right:4px;\" width=\"7\"/><span class=\"tah p11 red02\">\n",
       "\t\t\t\t4.68\n",
       "\t\t\t\t</span>\n",
       "</td>\n",
       "<td class=\"number_1\">\n",
       "<span class=\"tah p11 red01\">\n",
       "\t\t\t\t+1.53%\n",
       "\t\t\t\t</span>\n",
       "</td>\n",
       "<td class=\"number_1\" style=\"padding-right:40px;\">254,205</td>\n",
       "<td class=\"number_1\" style=\"padding-right:30px;\">12,465,040</td>\n",
       "</tr>\n",
       "<tr>\n",
       "<td class=\"date\">2020.08.05</td>\n",
       "<td class=\"number_1\">306.64</td>\n",
       "<td class=\"rate_down\" style=\"padding-right:35px;\">\n",
       "<img alt=\"상승\" height=\"6\" src=\"https://ssl.pstatic.net/imgstock/images/images4/ico_up.gif\" style=\"margin-right:4px;\" width=\"7\"/><span class=\"tah p11 red02\">\n",
       "\t\t\t\t3.60\n",
       "\t\t\t\t</span>\n",
       "</td>\n",
       "<td class=\"number_1\">\n",
       "<span class=\"tah p11 red01\">\n",
       "\t\t\t\t+1.19%\n",
       "\t\t\t\t</span>\n",
       "</td>\n",
       "<td class=\"number_1\" style=\"padding-right:40px;\">210,808</td>\n",
       "<td class=\"number_1\" style=\"padding-right:30px;\">12,324,476</td>\n",
       "</tr>\n",
       "<tr>\n",
       "<td class=\"date\">2020.08.04</td>\n",
       "<td class=\"number_1\">303.04</td>\n",
       "<td class=\"rate_down\" style=\"padding-right:35px;\">\n",
       "<img alt=\"상승\" height=\"6\" src=\"https://ssl.pstatic.net/imgstock/images/images4/ico_up.gif\" style=\"margin-right:4px;\" width=\"7\"/><span class=\"tah p11 red02\">\n",
       "\t\t\t\t3.58\n",
       "\t\t\t\t</span>\n",
       "</td>\n",
       "<td class=\"number_1\">\n",
       "<span class=\"tah p11 red01\">\n",
       "\t\t\t\t+1.20%\n",
       "\t\t\t\t</span>\n",
       "</td>\n",
       "<td class=\"number_1\" style=\"padding-right:40px;\">219,866</td>\n",
       "<td class=\"number_1\" style=\"padding-right:30px;\">9,689,069</td>\n",
       "</tr>\n",
       "<tr><td class=\"blank_09\" colspan=\"6\"></td></tr>\n",
       "<tr><td class=\"division_line\" colspan=\"6\"></td></tr>\n",
       "</table>\n",
       "<!--- 페이지 네비게이션 시작--->\n",
       "<table align=\"center\" class=\"Nnavi\" summary=\"페이지 네비게이션 리스트\">\n",
       "<caption>페이지 네비게이션</caption>\n",
       "<tr>\n",
       "<td class=\"on\">\n",
       "<a href=\"/sise/sise_index_day.nhn?code=KPI200&amp;page=1\">1</a>\n",
       "</td>\n",
       "<td>\n",
       "<a href=\"/sise/sise_index_day.nhn?code=KPI200&amp;page=2\">2</a>\n",
       "</td>\n",
       "<td>\n",
       "<a href=\"/sise/sise_index_day.nhn?code=KPI200&amp;page=3\">3</a>\n",
       "</td>\n",
       "<td>\n",
       "<a href=\"/sise/sise_index_day.nhn?code=KPI200&amp;page=4\">4</a>\n",
       "</td>\n",
       "<td>\n",
       "<a href=\"/sise/sise_index_day.nhn?code=KPI200&amp;page=5\">5</a>\n",
       "</td>\n",
       "<td>\n",
       "<a href=\"/sise/sise_index_day.nhn?code=KPI200&amp;page=6\">6</a>\n",
       "</td>\n",
       "<td>\n",
       "<a href=\"/sise/sise_index_day.nhn?code=KPI200&amp;page=7\">7</a>\n",
       "</td>\n",
       "<td>\n",
       "<a href=\"/sise/sise_index_day.nhn?code=KPI200&amp;page=8\">8</a>\n",
       "</td>\n",
       "<td>\n",
       "<a href=\"/sise/sise_index_day.nhn?code=KPI200&amp;page=9\">9</a>\n",
       "</td>\n",
       "<td>\n",
       "<a href=\"/sise/sise_index_day.nhn?code=KPI200&amp;page=10\">10</a>\n",
       "</td>\n",
       "<td class=\"pgR\">\n",
       "<a href=\"/sise/sise_index_day.nhn?code=KPI200&amp;page=11\">\n",
       "\t\t\t\t다음<img alt=\"\" border=\"0\" height=\"5\" src=\"https://ssl.pstatic.net/static/n/cmn/bu_pgarR.gif\" width=\"3\"/>\n",
       "</a>\n",
       "</td>\n",
       "<td class=\"pgRR\">\n",
       "<a href=\"/sise/sise_index_day.nhn?code=KPI200&amp;page=602\">맨뒤\n",
       "\t\t\t\t<img alt=\"\" border=\"0\" height=\"5\" src=\"https://ssl.pstatic.net/static/n/cmn/bu_pgarRR.gif\" width=\"8\"/>\n",
       "</a>\n",
       "</td>\n",
       "</tr>\n",
       "</table>\n",
       "<!--- 페이지 네비게이션 끝--->\n",
       "</div>\n",
       "<!-- //일별시세 -->\n",
       "<script type=\"text/javascript\">\n",
       "    ;(function(){\n",
       "        var eventType = \"onpageshow\" in window ? \"pageshow\" : \"load\";\n",
       "        jindo.$Fn(function(){\n",
       "            lcs_do();\n",
       "        }).attach(window, eventType);\n",
       "    })();\n",
       "</script>\n",
       "</body>\n",
       "</html>"
      ]
     },
     "execution_count": 1,
     "metadata": {},
     "output_type": "execute_result"
    }
   ],
   "source": [
    "from urllib.request import urlopen\n",
    "from bs4 import BeautifulSoup\n",
    "\n",
    "index_cd = 'KPI200'\n",
    "page_n = 1\n",
    "naver_index = r'https://finance.naver.com/sise/sise_index_day.nhn?code=' + index_cd + r'&page=' + str(page_n)\n",
    "source = urlopen(naver_index).read()\n",
    "source = BeautifulSoup(source, 'lxml')\n",
    "\n",
    "source"
   ]
  },
  {
   "cell_type": "code",
   "execution_count": 2,
   "metadata": {},
   "outputs": [
    {
     "data": {
      "text/plain": [
       "[<td class=\"blank_07\" colspan=\"6\"></td>,\n",
       " <td class=\"date\">2020.08.11</td>,\n",
       " <td class=\"number_1\">321.02</td>,\n",
       " <td class=\"rate_down\" style=\"padding-right:35px;\">\n",
       " <img alt=\"상승\" height=\"6\" src=\"https://ssl.pstatic.net/imgstock/images/images4/ico_up.gif\" style=\"margin-right:4px;\" width=\"7\"/><span class=\"tah p11 red02\">\n",
       " \t\t\t\t4.25\n",
       " \t\t\t\t</span>\n",
       " </td>,\n",
       " <td class=\"number_1\">\n",
       " <span class=\"tah p11 red01\">\n",
       " \t\t\t\t+1.34%\n",
       " \t\t\t\t</span>\n",
       " </td>,\n",
       " <td class=\"number_1\" style=\"padding-right:40px;\">297,602</td>,\n",
       " <td class=\"number_1\" style=\"padding-right:30px;\">14,272,135</td>,\n",
       " <td class=\"date\">2020.08.10</td>,\n",
       " <td class=\"number_1\">316.77</td>,\n",
       " <td class=\"rate_down\" style=\"padding-right:35px;\">\n",
       " <img alt=\"상승\" height=\"6\" src=\"https://ssl.pstatic.net/imgstock/images/images4/ico_up.gif\" style=\"margin-right:4px;\" width=\"7\"/><span class=\"tah p11 red02\">\n",
       " \t\t\t\t4.20\n",
       " \t\t\t\t</span>\n",
       " </td>,\n",
       " <td class=\"number_1\">\n",
       " <span class=\"tah p11 red01\">\n",
       " \t\t\t\t+1.34%\n",
       " \t\t\t\t</span>\n",
       " </td>,\n",
       " <td class=\"number_1\" style=\"padding-right:40px;\">261,178</td>,\n",
       " <td class=\"number_1\" style=\"padding-right:30px;\">13,609,052</td>,\n",
       " <td class=\"date\">2020.08.07</td>,\n",
       " <td class=\"number_1\">312.57</td>,\n",
       " <td class=\"rate_down\" style=\"padding-right:35px;\">\n",
       " <img alt=\"상승\" height=\"6\" src=\"https://ssl.pstatic.net/imgstock/images/images4/ico_up.gif\" style=\"margin-right:4px;\" width=\"7\"/><span class=\"tah p11 red02\">\n",
       " \t\t\t\t1.25\n",
       " \t\t\t\t</span>\n",
       " </td>,\n",
       " <td class=\"number_1\">\n",
       " <span class=\"tah p11 red01\">\n",
       " \t\t\t\t+0.40%\n",
       " \t\t\t\t</span>\n",
       " </td>,\n",
       " <td class=\"number_1\" style=\"padding-right:40px;\">299,118</td>,\n",
       " <td class=\"number_1\" style=\"padding-right:30px;\">12,726,819</td>,\n",
       " <td class=\"blank_08\" colspan=\"6\"></td>,\n",
       " <td class=\"division_line\" colspan=\"6\"></td>,\n",
       " <td class=\"blank_08\" colspan=\"6\"></td>,\n",
       " <td class=\"date\">2020.08.06</td>,\n",
       " <td class=\"number_1\">311.32</td>,\n",
       " <td class=\"rate_down\" style=\"padding-right:35px;\">\n",
       " <img alt=\"상승\" height=\"6\" src=\"https://ssl.pstatic.net/imgstock/images/images4/ico_up.gif\" style=\"margin-right:4px;\" width=\"7\"/><span class=\"tah p11 red02\">\n",
       " \t\t\t\t4.68\n",
       " \t\t\t\t</span>\n",
       " </td>,\n",
       " <td class=\"number_1\">\n",
       " <span class=\"tah p11 red01\">\n",
       " \t\t\t\t+1.53%\n",
       " \t\t\t\t</span>\n",
       " </td>,\n",
       " <td class=\"number_1\" style=\"padding-right:40px;\">254,205</td>,\n",
       " <td class=\"number_1\" style=\"padding-right:30px;\">12,465,040</td>,\n",
       " <td class=\"date\">2020.08.05</td>,\n",
       " <td class=\"number_1\">306.64</td>,\n",
       " <td class=\"rate_down\" style=\"padding-right:35px;\">\n",
       " <img alt=\"상승\" height=\"6\" src=\"https://ssl.pstatic.net/imgstock/images/images4/ico_up.gif\" style=\"margin-right:4px;\" width=\"7\"/><span class=\"tah p11 red02\">\n",
       " \t\t\t\t3.60\n",
       " \t\t\t\t</span>\n",
       " </td>,\n",
       " <td class=\"number_1\">\n",
       " <span class=\"tah p11 red01\">\n",
       " \t\t\t\t+1.19%\n",
       " \t\t\t\t</span>\n",
       " </td>,\n",
       " <td class=\"number_1\" style=\"padding-right:40px;\">210,808</td>,\n",
       " <td class=\"number_1\" style=\"padding-right:30px;\">12,324,476</td>,\n",
       " <td class=\"date\">2020.08.04</td>,\n",
       " <td class=\"number_1\">303.04</td>,\n",
       " <td class=\"rate_down\" style=\"padding-right:35px;\">\n",
       " <img alt=\"상승\" height=\"6\" src=\"https://ssl.pstatic.net/imgstock/images/images4/ico_up.gif\" style=\"margin-right:4px;\" width=\"7\"/><span class=\"tah p11 red02\">\n",
       " \t\t\t\t3.58\n",
       " \t\t\t\t</span>\n",
       " </td>,\n",
       " <td class=\"number_1\">\n",
       " <span class=\"tah p11 red01\">\n",
       " \t\t\t\t+1.20%\n",
       " \t\t\t\t</span>\n",
       " </td>,\n",
       " <td class=\"number_1\" style=\"padding-right:40px;\">219,866</td>,\n",
       " <td class=\"number_1\" style=\"padding-right:30px;\">9,689,069</td>,\n",
       " <td class=\"blank_09\" colspan=\"6\"></td>,\n",
       " <td class=\"division_line\" colspan=\"6\"></td>,\n",
       " <td class=\"on\">\n",
       " <a href=\"/sise/sise_index_day.nhn?code=KPI200&amp;page=1\">1</a>\n",
       " </td>,\n",
       " <td>\n",
       " <a href=\"/sise/sise_index_day.nhn?code=KPI200&amp;page=2\">2</a>\n",
       " </td>,\n",
       " <td>\n",
       " <a href=\"/sise/sise_index_day.nhn?code=KPI200&amp;page=3\">3</a>\n",
       " </td>,\n",
       " <td>\n",
       " <a href=\"/sise/sise_index_day.nhn?code=KPI200&amp;page=4\">4</a>\n",
       " </td>,\n",
       " <td>\n",
       " <a href=\"/sise/sise_index_day.nhn?code=KPI200&amp;page=5\">5</a>\n",
       " </td>,\n",
       " <td>\n",
       " <a href=\"/sise/sise_index_day.nhn?code=KPI200&amp;page=6\">6</a>\n",
       " </td>,\n",
       " <td>\n",
       " <a href=\"/sise/sise_index_day.nhn?code=KPI200&amp;page=7\">7</a>\n",
       " </td>,\n",
       " <td>\n",
       " <a href=\"/sise/sise_index_day.nhn?code=KPI200&amp;page=8\">8</a>\n",
       " </td>,\n",
       " <td>\n",
       " <a href=\"/sise/sise_index_day.nhn?code=KPI200&amp;page=9\">9</a>\n",
       " </td>,\n",
       " <td>\n",
       " <a href=\"/sise/sise_index_day.nhn?code=KPI200&amp;page=10\">10</a>\n",
       " </td>,\n",
       " <td class=\"pgR\">\n",
       " <a href=\"/sise/sise_index_day.nhn?code=KPI200&amp;page=11\">\n",
       " \t\t\t\t다음<img alt=\"\" border=\"0\" height=\"5\" src=\"https://ssl.pstatic.net/static/n/cmn/bu_pgarR.gif\" width=\"3\"/>\n",
       " </a>\n",
       " </td>,\n",
       " <td class=\"pgRR\">\n",
       " <a href=\"/sise/sise_index_day.nhn?code=KPI200&amp;page=602\">맨뒤\n",
       " \t\t\t\t<img alt=\"\" border=\"0\" height=\"5\" src=\"https://ssl.pstatic.net/static/n/cmn/bu_pgarRR.gif\" width=\"8\"/>\n",
       " </a>\n",
       " </td>]"
      ]
     },
     "execution_count": 2,
     "metadata": {},
     "output_type": "execute_result"
    }
   ],
   "source": [
    "td = source.find_all('td')\n",
    "td"
   ]
  },
  {
   "cell_type": "code",
   "execution_count": 3,
   "metadata": {},
   "outputs": [
    {
     "data": {
      "text/plain": [
       "'2020.08.07'"
      ]
     },
     "execution_count": 3,
     "metadata": {},
     "output_type": "execute_result"
    }
   ],
   "source": [
    "d = source.find_all('td', class_ = 'date')[2].text\n",
    "d"
   ]
  },
  {
   "cell_type": "code",
   "execution_count": 4,
   "metadata": {},
   "outputs": [
    {
     "data": {
      "text/plain": [
       "['2020', '08', '07']"
      ]
     },
     "execution_count": 4,
     "metadata": {},
     "output_type": "execute_result"
    }
   ],
   "source": [
    "import datetime as dt\n",
    "d.split('.')"
   ]
  },
  {
   "cell_type": "code",
   "execution_count": 5,
   "metadata": {},
   "outputs": [
    {
     "data": {
      "text/plain": [
       "datetime.date(2020, 8, 7)"
      ]
     },
     "execution_count": 5,
     "metadata": {},
     "output_type": "execute_result"
    }
   ],
   "source": [
    "yyyy = int(d.split('.')[0])\n",
    "mm = int(d.split('.')[1])\n",
    "dd = int(d.split('.')[2])\n",
    "\n",
    "this_date = dt.date(yyyy, mm, dd)\n",
    "this_date"
   ]
  },
  {
   "cell_type": "code",
   "execution_count": 6,
   "metadata": {},
   "outputs": [],
   "source": [
    "def date_format(d):\n",
    "    d = str(d).replace('-', '.')\n",
    "    yyyy = int(d.split('.')[0])\n",
    "    mm = int(d.split('.')[1])\n",
    "    dd = int(d.split('.')[2])\n",
    "    \n",
    "    this_date = dt.date(yyyy, mm, dd)\n",
    "    return this_date"
   ]
  },
  {
   "cell_type": "code",
   "execution_count": 7,
   "metadata": {},
   "outputs": [
    {
     "data": {
      "text/plain": [
       "321.02"
      ]
     },
     "execution_count": 7,
     "metadata": {},
     "output_type": "execute_result"
    }
   ],
   "source": [
    "this_close = source.find_all('td', class_ = 'number_1')[0].text\n",
    "float(this_close.replace(',',''))"
   ]
  },
  {
   "cell_type": "code",
   "execution_count": 8,
   "metadata": {},
   "outputs": [],
   "source": [
    "dates = source.find_all('td', class_ = 'date')\n",
    "prices = source.find_all('td', class_ = 'number_1')"
   ]
  },
  {
   "cell_type": "code",
   "execution_count": 9,
   "metadata": {},
   "outputs": [
    {
     "data": {
      "text/plain": [
       "[<td class=\"date\">2020.08.11</td>,\n",
       " <td class=\"date\">2020.08.10</td>,\n",
       " <td class=\"date\">2020.08.07</td>,\n",
       " <td class=\"date\">2020.08.06</td>,\n",
       " <td class=\"date\">2020.08.05</td>,\n",
       " <td class=\"date\">2020.08.04</td>]"
      ]
     },
     "execution_count": 9,
     "metadata": {},
     "output_type": "execute_result"
    }
   ],
   "source": [
    "dates"
   ]
  },
  {
   "cell_type": "code",
   "execution_count": 10,
   "metadata": {},
   "outputs": [
    {
     "data": {
      "text/plain": [
       "[<td class=\"number_1\">321.02</td>, <td class=\"number_1\">\n",
       " <span class=\"tah p11 red01\">\n",
       " \t\t\t\t+1.34%\n",
       " \t\t\t\t</span>\n",
       " </td>, <td class=\"number_1\" style=\"padding-right:40px;\">297,602</td>, <td class=\"number_1\" style=\"padding-right:30px;\">14,272,135</td>, <td class=\"number_1\">316.77</td>, <td class=\"number_1\">\n",
       " <span class=\"tah p11 red01\">\n",
       " \t\t\t\t+1.34%\n",
       " \t\t\t\t</span>\n",
       " </td>, <td class=\"number_1\" style=\"padding-right:40px;\">261,178</td>, <td class=\"number_1\" style=\"padding-right:30px;\">13,609,052</td>, <td class=\"number_1\">312.57</td>, <td class=\"number_1\">\n",
       " <span class=\"tah p11 red01\">\n",
       " \t\t\t\t+0.40%\n",
       " \t\t\t\t</span>\n",
       " </td>, <td class=\"number_1\" style=\"padding-right:40px;\">299,118</td>, <td class=\"number_1\" style=\"padding-right:30px;\">12,726,819</td>, <td class=\"number_1\">311.32</td>, <td class=\"number_1\">\n",
       " <span class=\"tah p11 red01\">\n",
       " \t\t\t\t+1.53%\n",
       " \t\t\t\t</span>\n",
       " </td>, <td class=\"number_1\" style=\"padding-right:40px;\">254,205</td>, <td class=\"number_1\" style=\"padding-right:30px;\">12,465,040</td>, <td class=\"number_1\">306.64</td>, <td class=\"number_1\">\n",
       " <span class=\"tah p11 red01\">\n",
       " \t\t\t\t+1.19%\n",
       " \t\t\t\t</span>\n",
       " </td>, <td class=\"number_1\" style=\"padding-right:40px;\">210,808</td>, <td class=\"number_1\" style=\"padding-right:30px;\">12,324,476</td>, <td class=\"number_1\">303.04</td>, <td class=\"number_1\">\n",
       " <span class=\"tah p11 red01\">\n",
       " \t\t\t\t+1.20%\n",
       " \t\t\t\t</span>\n",
       " </td>, <td class=\"number_1\" style=\"padding-right:40px;\">219,866</td>, <td class=\"number_1\" style=\"padding-right:30px;\">9,689,069</td>]"
      ]
     },
     "execution_count": 10,
     "metadata": {},
     "output_type": "execute_result"
    }
   ],
   "source": [
    "prices"
   ]
  },
  {
   "cell_type": "code",
   "execution_count": 11,
   "metadata": {},
   "outputs": [
    {
     "data": {
      "text/plain": [
       "6"
      ]
     },
     "execution_count": 11,
     "metadata": {},
     "output_type": "execute_result"
    }
   ],
   "source": [
    "len(dates)"
   ]
  },
  {
   "cell_type": "code",
   "execution_count": 12,
   "metadata": {},
   "outputs": [
    {
     "data": {
      "text/plain": [
       "24"
      ]
     },
     "execution_count": 12,
     "metadata": {},
     "output_type": "execute_result"
    }
   ],
   "source": [
    "len(prices)"
   ]
  },
  {
   "cell_type": "code",
   "execution_count": 13,
   "metadata": {},
   "outputs": [
    {
     "name": "stdout",
     "output_type": "stream",
     "text": [
      "2020-08-11 321.02\n",
      "2020-08-10 316.77\n",
      "2020-08-07 312.57\n",
      "2020-08-06 311.32\n",
      "2020-08-05 306.64\n",
      "2020-08-04 303.04\n"
     ]
    }
   ],
   "source": [
    "for n in range(len(dates)):\n",
    "    this_date = dates[n].text\n",
    "    this_date = date_format(this_date)\n",
    "    \n",
    "    this_close = prices[4 * n].text\n",
    "    \n",
    "    this_close = this_close.replace(',', '')\n",
    "    this_close = float(this_close)\n",
    "    \n",
    "    print(this_date, this_close)"
   ]
  },
  {
   "cell_type": "code",
   "execution_count": 14,
   "metadata": {},
   "outputs": [
    {
     "data": {
      "text/plain": [
       "602"
      ]
     },
     "execution_count": 14,
     "metadata": {},
     "output_type": "execute_result"
    }
   ],
   "source": [
    "# 페이지를 자동으로 이동하도록 하자\n",
    "paging = source.find('td', class_ = 'pgRR').find('a')['href']\n",
    "paging = paging.split('&')[1]\n",
    "paging = int(paging.split('=')[1])\n",
    "paging"
   ]
  },
  {
   "cell_type": "code",
   "execution_count": 15,
   "metadata": {},
   "outputs": [],
   "source": [
    "def historical_index_naver(index_cd, start_date='', end_date='', page_n=1, last_page=0):\n",
    "    \n",
    "    # 파라미터로는 \n",
    "    # index_cd (코드명. ex, 코스피, 코스피200 ..) \n",
    "    # start_date(원하는 기간의 시작일), end_date(종료일) 날짜를 문자열로 넣는다\n",
    "    # page_n =1   항상 1페이지 부터 시작한다\n",
    "    # last_page = 0  마지막페이지는 아직 몇인지 모르니 우선 0으로 놓는다\n",
    "    \n",
    "    if start_date:                                   # 만약 start_date를 정의해줬으면\n",
    "        start_date = date_format(start_date)        # start_date를 위에서 만든 date_format함수로 원하는 형태로 바꿔주자\n",
    "    else:\n",
    "        start_date = dt.date.today()                # 만약 start_date를 정의해주지 않았다면 오늘 날짜로 정의\n",
    "    \n",
    "    if end_date:                                    # 만약 end_date를 정의해줬으면\n",
    "        end_date = date_format(end_date)            # end_date를 위에서 만든 date_format함수로 원하는 형태로 바꿔주자\n",
    "    else:\n",
    "        end_date = dt.date.today()                  # 만약 end_date를 정의해주지 않았다면 오늘 날짜로 정의\n",
    "        \n",
    "        \n",
    "    # 코스피200 일별시세 url 소스코드를 가져오기\n",
    "        \n",
    "    naver_index = r'https://finance.naver.com/sise/sise_index_day.nhn?code=' + index_cd + r'&page=' + str(page_n)\n",
    "    source = urlopen(naver_index).read()\n",
    "    source = BeautifulSoup(source, 'lxml')\n",
    "    \n",
    "    dates = source.find_all('td', class_ = 'date')          # 날짜수집\n",
    "    prices = source.find_all('td', class_ = 'number_1')     # 지수수집\n",
    "    \n",
    "    \n",
    "    \n",
    "    for n in range(len(dates)): # 특정페이지에서 6개의 날짜가 출력됨. 6개의 날짜데이터 모두 코르블록 실행\n",
    "        \n",
    "        if dates[n].text.split('.')[0].isdigit():  # 만약 n번째 페이지의 날짜데이터의 첫번째 인덱스가 숫자라면 코드블록 실행\n",
    "                                                   # (날짜데이터가 맞는지 확인하는?)\n",
    "        \n",
    "            # 날짜 처리를 처리\n",
    "            \n",
    "            this_date = dates[n].text              # n번째 태그에서 날짜인 text만 가져오기\n",
    "            this_date = date_format(this_date)     # 위에서 정의해준 date_format함수로 원하는 형태로 날짜 만들어주기\n",
    "            \n",
    "            # 만약 this_date가 정의해줄 end_date보다 작거나 같고 start_date보다 크거나 같으면 코드블록 실행\n",
    "            # 즉 end_date와 start_date 사이의 날짜들에 대해서만 코드 실행\n",
    "            \n",
    "            if this_date <= end_date and this_date >=start_date:  \n",
    "                \n",
    "            # 종가 처리\n",
    "                this_close = prices[n*4].text            #종가는 ('td', class_='number_1')을 가진 소스들의 5번째에 옴\n",
    "                                                         # 그러므르 인덱스는 4의 배수(4*n)이 필요\n",
    "\n",
    "                this_close = this_close.replace(',', '')  # 숫자의 천 단위마다 있는 ,를 빼준다.\n",
    "                this_close = float(this_close)            # 그후 실수타입으로 바꿔줌\n",
    "\n",
    "            # 딕셔너리에 저장\n",
    "                historical_prices[this_date] = this_close # 날짜:종가 형태가 나올 수 있도록 dict에 저장\n",
    "            \n",
    "            elif this_date < start_date:                  \n",
    "                return historical_prices\n",
    "            \n",
    "    # 페이지 내비게이션 / 일별시세의 마지막 페이지가 몇인지 알기위함\n",
    "    if last_page == 0:                          \n",
    "        last_page = source.find('td', class_ = 'pgRR').find('a')['href']\n",
    "        last_page = last_page.split('&')[1]\n",
    "        last_page = int(last_page.split('=')[1])\n",
    "    \n",
    "    # 다음페이지 호출\n",
    "    if page_n <= last_page: #페이지가 마지막 페이지까지 돌 수 있도록 하기\n",
    "        page_n += 1        #페이지는 하나씩 올라가야함\n",
    "        historical_index_naver(index_cd, start_date, end_date, page_n, last_page)\n",
    "        \n",
    "        # 만약 마지막 페이지가 5라고 하면\n",
    "        # 우리가 정의해준 함수 historical_index_naver는\n",
    "        # historical_index_naver(index_cd, start_date, end_date, 1, 5)\n",
    "        # historical_index_naver(index_cd, start_date, end_date, 2, 5) ... 이런식으로 page_n가 5가 될때까지 실행\n",
    "    \n",
    "    return historical_prices # 반환은 dict 타입인 historical_prices로 한다"
   ]
  },
  {
   "cell_type": "code",
   "execution_count": null,
   "metadata": {},
   "outputs": [],
   "source": [
    "index_cd = 'KPI200'\n",
    "historical_prices = dict()\n",
    "historical_index_naver(index_cd, '2018-4-1', '2018-4-4')\n",
    "historical_prices"
   ]
  }
 ],
 "metadata": {
  "kernelspec": {
   "display_name": "Python 3",
   "language": "python",
   "name": "python3"
  },
  "language_info": {
   "codemirror_mode": {
    "name": "ipython",
    "version": 3
   },
   "file_extension": ".py",
   "mimetype": "text/x-python",
   "name": "python",
   "nbconvert_exporter": "python",
   "pygments_lexer": "ipython3",
   "version": "3.7.4"
  }
 },
 "nbformat": 4,
 "nbformat_minor": 2
}
