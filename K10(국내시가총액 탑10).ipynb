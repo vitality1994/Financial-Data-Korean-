{
 "cells": [
  {
   "cell_type": "code",
   "execution_count": 3,
   "metadata": {},
   "outputs": [],
   "source": [
    "from bs4 import BeautifulSoup\n",
    "from urllib.request import urlopen"
   ]
  },
  {
   "cell_type": "code",
   "execution_count": 42,
   "metadata": {},
   "outputs": [],
   "source": [
    "url = 'https://navercomp.wisereport.co.kr/v2/company/c1010001.aspx?cmp_cd=005930'\n",
    "\n",
    "source = urlopen(url)\n",
    "soup = BeautifulSoup(source, 'lxml')"
   ]
  },
  {
   "cell_type": "code",
   "execution_count": 101,
   "metadata": {},
   "outputs": [
    {
     "data": {
      "text/plain": [
       "'\\r\\n\\t\\t\\t\\t\\t\\t\\t\\t\\t\\t\\t\\t\\t\\t\\t5,969,782,550주 / 74.78%\\r\\n\\t\\t\\t\\t\\t\\t\\t\\t\\t\\t\\t\\t\\t\\t'"
      ]
     },
     "execution_count": 101,
     "metadata": {},
     "output_type": "execute_result"
    }
   ],
   "source": [
    "soup.find('tbody').find_all('td', class_ = 'num')[6].text"
   ]
  },
  {
   "cell_type": "code",
   "execution_count": 128,
   "metadata": {},
   "outputs": [],
   "source": [
    "name = soup.find('span', class_ = 'name').text"
   ]
  },
  {
   "cell_type": "code",
   "execution_count": 56,
   "metadata": {},
   "outputs": [],
   "source": [
    "tmp = soup.find('tbody').find_all('td', class_ = 'num')[6].text"
   ]
  },
  {
   "cell_type": "code",
   "execution_count": 57,
   "metadata": {},
   "outputs": [
    {
     "data": {
      "text/plain": [
       "'5,969,782,550주 / 74.78%'"
      ]
     },
     "execution_count": 57,
     "metadata": {},
     "output_type": "execute_result"
    }
   ],
   "source": [
    "tmp = tmp.replace('\\r', '')\n",
    "tmp = tmp.replace('\\n', '')\n",
    "tmp = tmp.replace('\\t', '')\n",
    "\n",
    "tmp"
   ]
  },
  {
   "cell_type": "code",
   "execution_count": 58,
   "metadata": {},
   "outputs": [
    {
     "data": {
      "text/plain": [
       "['5,969,782,550주 ', ' 74.78%']"
      ]
     },
     "execution_count": 58,
     "metadata": {},
     "output_type": "execute_result"
    }
   ],
   "source": [
    "tmp = tmp.split('/')\n",
    "tmp"
   ]
  },
  {
   "cell_type": "code",
   "execution_count": 61,
   "metadata": {},
   "outputs": [
    {
     "data": {
      "text/plain": [
       "('5,969,782,550주 ', ' 74.78%')"
      ]
     },
     "execution_count": 61,
     "metadata": {},
     "output_type": "execute_result"
    }
   ],
   "source": [
    "tmp[0], tmp[1]"
   ]
  },
  {
   "cell_type": "code",
   "execution_count": 71,
   "metadata": {},
   "outputs": [
    {
     "data": {
      "text/plain": [
       "5969782550"
      ]
     },
     "execution_count": 71,
     "metadata": {},
     "output_type": "execute_result"
    }
   ],
   "source": [
    "outstanding = tmp[0].replace(',', '')\n",
    "outstanding = outstanding.replace('주', '')\n",
    "outstanding = int(outstanding)\n",
    "outstanding"
   ]
  },
  {
   "cell_type": "code",
   "execution_count": 74,
   "metadata": {},
   "outputs": [
    {
     "data": {
      "text/plain": [
       "74.78"
      ]
     },
     "execution_count": 74,
     "metadata": {},
     "output_type": "execute_result"
    }
   ],
   "source": [
    "floating = tmp[1].replace('%', '')\n",
    "floating = float(floating)\n",
    "floating"
   ]
  },
  {
   "cell_type": "code",
   "execution_count": 134,
   "metadata": {},
   "outputs": [],
   "source": [
    "def stock_info(stock_cd):\n",
    "    url = 'https://navercomp.wisereport.co.kr/v2/company/c1010001.aspx?cmp_cd=' + stock_cd\n",
    "\n",
    "    source = urlopen(url)\n",
    "    soup = BeautifulSoup(source, 'lxml')\n",
    "    \n",
    "    soup.find('tbody').find_all('td', class_ = 'num')[6].text\n",
    "    \n",
    "    tmp = soup.find('tbody').find_all('td', class_ = 'num')[6].text\n",
    "    \n",
    "    tmp = tmp.replace('\\r', '')\n",
    "    tmp = tmp.replace('\\n', '')\n",
    "    tmp = tmp.replace('\\t', '')\n",
    "    \n",
    "    tmp = tmp.split('/')\n",
    "    \n",
    "    outstanding = tmp[0].replace(',', '')\n",
    "    outstanding = outstanding.replace('주', '')\n",
    "    outstanding = int(outstanding)\n",
    "    \n",
    "    floating = tmp[1].replace('%', '')\n",
    "    floating = float(floating)\n",
    "    \n",
    "    name = soup.find('span', class_ = 'name').text  \n",
    "    \n",
    "    K10_outstanding[name] = outstanding\n",
    "    K10_floating[name] = floating\n",
    "    K10_name[name] = stock_cd"
   ]
  },
  {
   "cell_type": "code",
   "execution_count": 113,
   "metadata": {},
   "outputs": [],
   "source": [
    "\"\"\"\n",
    "한국거래소 시가총액 상위 10종목 (2020년 5월 기준) (삼성저자우는 넘어감)\n",
    "\n",
    "삼성전자 005930\n",
    "SK하이닉스 000660\n",
    "삼성바이오로직스 207940\n",
    "NAVER 035420\n",
    "셀트리온 068270\n",
    "LG화학 051910\n",
    "삼성SDI 006400\n",
    "카카오 035720\n",
    "LG생활건강 051900\n",
    "현대차 005380\n",
    "\"\"\"\n",
    "\n",
    "K10_component = ['005930', '000660', '207940', '035420', '068270', '051910', '006400', '035720', '051900', '005380']"
   ]
  },
  {
   "cell_type": "code",
   "execution_count": 135,
   "metadata": {},
   "outputs": [],
   "source": [
    "K10_outstanding = {}\n",
    "K10_floating = {}\n",
    "K10_name = {}\n",
    "for stock_cd in K10_component:\n",
    "    stock_info(stock_cd)"
   ]
  },
  {
   "cell_type": "code",
   "execution_count": 136,
   "metadata": {},
   "outputs": [
    {
     "data": {
      "text/plain": [
       "{'삼성전자': 5969782550,\n",
       " 'SK하이닉스': 728002365,\n",
       " '삼성바이오로직스': 66165000,\n",
       " 'NAVER': 164263395,\n",
       " '셀트리온': 134939385,\n",
       " 'LG화학': 70592343,\n",
       " '삼성SDI': 68764530,\n",
       " '카카오': 87069642,\n",
       " 'LG생활건강': 15618197,\n",
       " '현대차': 213668187}"
      ]
     },
     "execution_count": 136,
     "metadata": {},
     "output_type": "execute_result"
    }
   ],
   "source": [
    "K10_outstanding"
   ]
  },
  {
   "cell_type": "code",
   "execution_count": 137,
   "metadata": {},
   "outputs": [
    {
     "data": {
      "text/plain": [
       "{'삼성전자': 74.78,\n",
       " 'SK하이닉스': 73.64,\n",
       " '삼성바이오로직스': 24.75,\n",
       " 'NAVER': 75.95,\n",
       " '셀트리온': 75.66,\n",
       " 'LG화학': 64.29,\n",
       " '삼성SDI': 73.49,\n",
       " '카카오': 68.67,\n",
       " 'LG생활건강': 59.83,\n",
       " '현대차': 64.41}"
      ]
     },
     "execution_count": 137,
     "metadata": {},
     "output_type": "execute_result"
    }
   ],
   "source": [
    "K10_floating"
   ]
  },
  {
   "cell_type": "code",
   "execution_count": 138,
   "metadata": {},
   "outputs": [
    {
     "data": {
      "text/plain": [
       "{'삼성전자': '005930',\n",
       " 'SK하이닉스': '000660',\n",
       " '삼성바이오로직스': '207940',\n",
       " 'NAVER': '035420',\n",
       " '셀트리온': '068270',\n",
       " 'LG화학': '051910',\n",
       " '삼성SDI': '006400',\n",
       " '카카오': '035720',\n",
       " 'LG생활건강': '051900',\n",
       " '현대차': '005380'}"
      ]
     },
     "execution_count": 138,
     "metadata": {},
     "output_type": "execute_result"
    }
   ],
   "source": [
    "K10_name"
   ]
  }
 ],
 "metadata": {
  "kernelspec": {
   "display_name": "Python 3",
   "language": "python",
   "name": "python3"
  },
  "language_info": {
   "codemirror_mode": {
    "name": "ipython",
    "version": 3
   },
   "file_extension": ".py",
   "mimetype": "text/x-python",
   "name": "python",
   "nbconvert_exporter": "python",
   "pygments_lexer": "ipython3",
   "version": "3.7.4"
  }
 },
 "nbformat": 4,
 "nbformat_minor": 2
}
